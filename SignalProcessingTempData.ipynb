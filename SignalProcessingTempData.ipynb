{
  "nbformat": 4,
  "nbformat_minor": 0,
  "metadata": {
    "colab": {
      "name": "SignalProcessingTempData.ipynb",
      "provenance": [],
      "collapsed_sections": [],
      "toc_visible": true,
      "machine_shape": "hm"
    },
    "kernelspec": {
      "name": "python3",
      "display_name": "Python 3"
    }
  },
  "cells": [
    {
      "cell_type": "markdown",
      "metadata": {
        "id": "4SPQ5zVWSBPk",
        "colab_type": "text"
      },
      "source": [
        "#Analysis of Temporary BNZ Sensors"
      ]
    },
    {
      "cell_type": "markdown",
      "metadata": {
        "id": "oKwkGEUes8d7",
        "colab_type": "text"
      },
      "source": [
        "##Signal Processing Tools"
      ]
    },
    {
      "cell_type": "markdown",
      "metadata": {
        "id": "Dd3dqNBCtVMI",
        "colab_type": "text"
      },
      "source": [
        "###Python Libraries"
      ]
    },
    {
      "cell_type": "markdown",
      "metadata": {
        "id": "-aWYYN-PMqk9",
        "colab_type": "text"
      },
      "source": [
        "Importing relevant libraries:"
      ]
    },
    {
      "cell_type": "code",
      "metadata": {
        "id": "y7X8A9cELuTC",
        "colab_type": "code",
        "colab": {
          "base_uri": "https://localhost:8080/",
          "height": 204
        },
        "outputId": "a79ca242-dfc6-46f0-ddc8-5cc41cbd75e5"
      },
      "source": [
        "import pandas as pd\n",
        "import os\n",
        "import matplotlib.pyplot as plt\n",
        "from matplotlib.pyplot import cm\n",
        "from scipy import signal\n",
        "import numpy as np\n",
        "from IPython.display import clear_output\n",
        "\n",
        "!pip install eqsig\n",
        "import eqsig"
      ],
      "execution_count": null,
      "outputs": [
        {
          "output_type": "stream",
          "text": [
            "Collecting eqsig\n",
            "  Downloading https://files.pythonhosted.org/packages/89/49/63f8ce485e870dde5b6e09ef4dde5c22f49a35d41500db86cd48ab03ffea/eqsig-1.2.3.tar.gz\n",
            "Requirement already satisfied: numpy>=1.16 in /usr/local/lib/python3.6/dist-packages (from eqsig) (1.18.5)\n",
            "Requirement already satisfied: scipy>=1.2.1 in /usr/local/lib/python3.6/dist-packages (from eqsig) (1.4.1)\n",
            "Building wheels for collected packages: eqsig\n",
            "  Building wheel for eqsig (setup.py) ... \u001b[?25l\u001b[?25hdone\n",
            "  Created wheel for eqsig: filename=eqsig-1.2.3-cp36-none-any.whl size=36348 sha256=1b96f0dad9c2924f4a189044dad6af9147819389158e465a72cf49b3da92a054\n",
            "  Stored in directory: /root/.cache/pip/wheels/b2/f3/51/21d2afe0d08c7f77d31b85dea34442857c2be909c38f2f3272\n",
            "Successfully built eqsig\n",
            "Installing collected packages: eqsig\n",
            "Successfully installed eqsig-1.2.3\n"
          ],
          "name": "stdout"
        }
      ]
    },
    {
      "cell_type": "markdown",
      "metadata": {
        "id": "aAOAzwnHtaK0",
        "colab_type": "text"
      },
      "source": [
        "###My Signal Processing Tools"
      ]
    },
    {
      "cell_type": "markdown",
      "metadata": {
        "id": "Kr0Ug6CMugWO",
        "colab_type": "text"
      },
      "source": [
        "####Reading CSVs"
      ]
    },
    {
      "cell_type": "markdown",
      "metadata": {
        "id": "Xb0uugbXM3WC",
        "colab_type": "text"
      },
      "source": [
        "This function below reads in the CSV Files given the file name:"
      ]
    },
    {
      "cell_type": "code",
      "metadata": {
        "id": "GlRvETafL0W8",
        "colab_type": "code",
        "colab": {}
      },
      "source": [
        "#Reading in acceleration data from CSV File\n",
        "def read(file_name):\n",
        "    acc_table = pd.read_csv(file_name, header = 8)\n",
        "    acc_table.columns = ['time','Ax','Ay','Az','rubbish']\n",
        "    acc_table = acc_table.drop(\"rubbish\", axis=1)\n",
        "    return acc_table"
      ],
      "execution_count": null,
      "outputs": []
    },
    {
      "cell_type": "markdown",
      "metadata": {
        "id": "ZjAwXLkuuko_",
        "colab_type": "text"
      },
      "source": [
        "####Visualization"
      ]
    },
    {
      "cell_type": "markdown",
      "metadata": {
        "id": "3hqaYqj5M5yY",
        "colab_type": "text"
      },
      "source": [
        "This function below in a table of accelerations with the headers: time, Ax, Ay, Az and applies the following transformations:\n",
        "\n",
        "\n",
        "1.   Divides the acceleration by the high gain counts of 13107.\n",
        "2.   Detrends the data using a linear function. (Note as per meeting on 12-Jun Lucas has noted this function should use constant \"teir\" shift rather than a linear function)\n",
        "\n",
        "Note the application of this function applied to each CSV as they read in, NOT the entire singal for memory optimsation.\n",
        "\n",
        "\n"
      ]
    },
    {
      "cell_type": "code",
      "metadata": {
        "id": "yaV8UZ-sL2ce",
        "colab_type": "code",
        "colab": {}
      },
      "source": [
        "#Processes data adjusting for co-efficients\n",
        "def process(acc_table):\n",
        "    \n",
        "    #Adjust for high gain \"counts/g\" to arrive at units g.\n",
        "    acc_table['Ax'] = acc_table['Ax'].div(13107)\n",
        "    acc_table['Ay'] = acc_table['Ay'].div(13107)\n",
        "    acc_table['Az'] = acc_table['Az'].div(13107)\n",
        "    \n",
        "    #Convert DF to arrays\n",
        "    Ax = acc_table[\"Ax\"].tolist()\n",
        "    Ay = acc_table[\"Ay\"].tolist()\n",
        "    Az = acc_table[\"Az\"].tolist()\n",
        "    \n",
        "    #Detrend arrays\n",
        "    Ax = signal.detrend(Ax, axis=-1, type='linear', bp=0)\n",
        "    Ay = signal.detrend(Ay, axis=-1, type='linear', bp=0)\n",
        "    Az = signal.detrend(Az, axis=-1, type='linear', bp=0)\n",
        "    \n",
        "    #Replace DF data with detrended data.\n",
        "    acc_table = acc_table.assign(Ax = Ax)\n",
        "    acc_table = acc_table.assign(Ay = Ay)\n",
        "    acc_table = acc_table.assign(Az = Az)\n",
        "    \n",
        "    return acc_table"
      ],
      "execution_count": null,
      "outputs": []
    },
    {
      "cell_type": "markdown",
      "metadata": {
        "id": "-zJQKhT6N4jE",
        "colab_type": "text"
      },
      "source": [
        "This function below takes a table of acceleration with the headers time Ax, Ay, Az and plots the time against: Ax, Ay, Az - all on the same figure.\n"
      ]
    },
    {
      "cell_type": "code",
      "metadata": {
        "id": "Z9dsf0LzL5X8",
        "colab_type": "code",
        "colab": {}
      },
      "source": [
        "#Plot acceleration vs. time\n",
        "def drawXYZ(acc_table):  \n",
        "    fig, (ax1,ax2,ax3) = plt.subplots(3, 1)\n",
        "    \n",
        "    fig.text(0.5, 0.04, 'Time (s)', ha='center', va='center')\n",
        "    fig.tight_layout(pad=3.0)\n",
        "    \n",
        "    #X Acceleration\n",
        "    acc_table.plot(x = 'time' , y='Ax', color='r', linewidth=0.25, ax = ax1, title = 'X Acceleration', figsize = (20,10))\n",
        "    ax1.grid()\n",
        "    \n",
        "    #Y Acceleration\n",
        "    acc_table.plot(x = 'time' , y='Ay', color='b', linewidth=0.25, ax = ax2, title = 'Y Acceleration', figsize = (20,10))\n",
        "    ax2.grid()\n",
        "\n",
        "    #Y Acceleration\n",
        "    acc_table.plot(x = 'time' , y='Az', color='g', linewidth=0.25, ax = ax3, title = 'Z Acceleration', figsize = (20,10))\n",
        "    ax3.grid()\n",
        "    \n",
        "    #Plot and Save\n",
        "    plt.show\n",
        "    fig.savefig('Time_Vs_XYZ_Acc.png', dpi=400)"
      ],
      "execution_count": null,
      "outputs": []
    },
    {
      "cell_type": "markdown",
      "metadata": {
        "id": "diU0QHghOOZz",
        "colab_type": "text"
      },
      "source": [
        "This function below takes a table of time and the X accelerations of multiple channels (i.e. headers time, Ax0, Ax1, Ax2, Ax3) and plots them all on one graph. This is helpful for comparing sensors over a specific time frame visually."
      ]
    },
    {
      "cell_type": "code",
      "metadata": {
        "id": "tHoy1m47L71Z",
        "colab_type": "code",
        "colab": {}
      },
      "source": [
        "#Compares multiple Ax from different sensors\n",
        "def compare_ax_chans(acc_table):\n",
        "#Number of Columns and Rows for Subplots\n",
        "    Tot = len(acc_table.columns)-1\n",
        "    Cols = 1\n",
        "\n",
        "    Rows = Tot // Cols \n",
        "    Rows += Tot % Cols\n",
        "\n",
        "    Position = range(1,Tot + 1)\n",
        "\n",
        "    # Create main figure\n",
        "    fig = plt.figure(1, figsize=(10,30))\n",
        "\n",
        "    #Setup colours\n",
        "    color = iter(cm.rainbow(np.linspace(0,1,Tot)))\n",
        "\n",
        "    for k in range(Tot):\n",
        "        #Define x and y axis\n",
        "        x = acc_table['time']            \n",
        "        y = acc_table['Ax' + str(k)]     \n",
        "    \n",
        "        #Add every single subplot to the figure each loop, iterate through colours\n",
        "        ax = fig.add_subplot(Rows,Cols,Position[k])\n",
        "        c = next(color)\n",
        "        plt.xlim(60, 140) #Window Size for Graph - Turn off Comment if Required!\n",
        "        ax.plot(x,y, c=c)\n",
        "        #annot_max(x,y)\n",
        "\n",
        "    #Set up graph size and titles, save to drive\n",
        "    plt.subplots_adjust(left=None, bottom=None, right=None, top=None, wspace=None, hspace=0.3)\n",
        "    fig.text(0.5, 0.1, 'Time (s)', ha='center')\n",
        "    fig.text(0.04, 0.5, 'Acceleration (s)', va='center', rotation='vertical')\n",
        "    fig.savefig('Comparison_of_Sensors_Ax_ONLY.png', dpi=400)"
      ],
      "execution_count": null,
      "outputs": []
    },
    {
      "cell_type": "markdown",
      "metadata": {
        "id": "3-3IPqjLOvcA",
        "colab_type": "text"
      },
      "source": [
        "This function below annotates the maximum acceleration and at what time this occurs on time vs acc plot."
      ]
    },
    {
      "cell_type": "code",
      "metadata": {
        "id": "xHTnkhhDL-CW",
        "colab_type": "code",
        "colab": {}
      },
      "source": [
        "#Annotates the maximum value in a plot.\n",
        "def annot_max(x,y, ax=None):\n",
        "    xmax = x[np.argmax(y)]\n",
        "    ymax = y.max()\n",
        "    text= \"x={:.3f}, y={:.3f}\".format(xmax, ymax)\n",
        "    if not ax:\n",
        "        ax=plt.gca()\n",
        "    bbox_props = dict(boxstyle=\"square,pad=0.3\", fc=\"w\", ec=\"k\", lw=0.72)\n",
        "    arrowprops=dict(arrowstyle=\"->\",connectionstyle=\"angle,angleA=0,angleB=60\")\n",
        "    kw = dict(xycoords='data',textcoords=\"axes fraction\",\n",
        "              arrowprops=arrowprops, bbox=bbox_props, ha=\"right\", va=\"top\")\n",
        "    ax.annotate(text, xy=(xmax, ymax), xytext=(0.94,0.96), **kw)"
      ],
      "execution_count": null,
      "outputs": []
    },
    {
      "cell_type": "markdown",
      "metadata": {
        "id": "EN1NgUAyO804",
        "colab_type": "text"
      },
      "source": [
        "This function below takes two accelerations table with headers: time, Ax, Ay, Az and joins them together. The time of the file being added is summed with the terminal time of the file being joined to."
      ]
    },
    {
      "cell_type": "markdown",
      "metadata": {
        "id": "pMgchgkNuydP",
        "colab_type": "text"
      },
      "source": [
        "####Concatinating"
      ]
    },
    {
      "cell_type": "code",
      "metadata": {
        "id": "BajukAw9L_v5",
        "colab_type": "code",
        "colab": {}
      },
      "source": [
        "#Joins two acceleration tables\n",
        "def join(a,b):\n",
        "    last_time = a.time.iat[-1]\n",
        "    b['time'] += last_time\n",
        "    frames = [a,b]\n",
        "    result = pd.concat(frames)  \n",
        "    return result"
      ],
      "execution_count": null,
      "outputs": []
    },
    {
      "cell_type": "markdown",
      "metadata": {
        "id": "8Cj74Q-UPVVd",
        "colab_type": "text"
      },
      "source": [
        "This function below takes two arrays of acceleration data along with their respective sampling rate and calculates the delay between the two by maximising the cross correlation between the two function. A plot of the correlation coefficient and the time delays is also shown."
      ]
    },
    {
      "cell_type": "markdown",
      "metadata": {
        "id": "6QGzumlsu3vM",
        "colab_type": "text"
      },
      "source": [
        "####Time Lag Analysis"
      ]
    },
    {
      "cell_type": "code",
      "metadata": {
        "id": "9e8GBtJOMBmC",
        "colab_type": "code",
        "colab": {}
      },
      "source": [
        "#Find time lay between two sets of data, y1 = data1, y2 = data2, sr = sample rate\n",
        "def lag_finder(y1, y2, sr, name):\n",
        "    n = len(y1)  \n",
        "    corr = signal.correlate(y2, y1, mode='same') / np.sqrt(signal.correlate(y1, y1, mode='same')[int(n/2)] * signal.correlate(y2, y2, mode='same')[int(n/2)])\n",
        "    \n",
        "    #Calculation Delay\n",
        "    delay_arr = np.linspace(-0.5*n/sr, 0.5*n/sr, n)\n",
        "    delay = delay_arr[np.argmax(corr)]\n",
        "    \n",
        "    #Plot Correlation Graph\n",
        "    plt.figure()\n",
        "    plt.plot(delay_arr, corr)\n",
        "    plt.title('Lag: ' + str(np.round(delay, 3))+ ' s ' + name)\n",
        "    plt.xlabel('Lag')\n",
        "    plt.ylabel('Correlation Coefficient')\n",
        "    plt.savefig(name, dpi=400)\n",
        "    plt.show()\n",
        "    \n",
        "    return delay"
      ],
      "execution_count": null,
      "outputs": []
    },
    {
      "cell_type": "markdown",
      "metadata": {
        "id": "bEtSj4_nPvDr",
        "colab_type": "text"
      },
      "source": [
        "This function below takes an acceleration table with headers: time, Ax0, Ax1, Ax2, Ax3... (i.e. the time of one sensor and the x-accelerations of multiple senors and calculates the time delays of the all the accelerations Ax1, Ax2... Axn - compared to Ax0)."
      ]
    },
    {
      "cell_type": "code",
      "metadata": {
        "id": "K-xJ6IOdMCca",
        "colab_type": "code",
        "colab": {}
      },
      "source": [
        "#Outputs time delay for first column in acc_table compared to all other columns\n",
        "def lag_table(acc_table, sr):\n",
        "    y1 = master_table['Ax0'].to_numpy()\n",
        "    l = len(acc_table.columns)-1\n",
        "    lags = []\n",
        "    \n",
        "    for x in range(l-1):\n",
        "        y2 = acc_table['Ax'+str(x+1)].to_numpy()\n",
        "        lag = lag_finder(y1,y2,sr,'Ax'+str(x+1))    \n",
        "        lags.append(lag)\n",
        "    return lags"
      ],
      "execution_count": null,
      "outputs": []
    },
    {
      "cell_type": "markdown",
      "metadata": {
        "id": "NuoLxfBBcywX",
        "colab_type": "text"
      },
      "source": [
        "####Fourier transform"
      ]
    },
    {
      "cell_type": "markdown",
      "metadata": {
        "id": "yL-zXBJ-c8sF",
        "colab_type": "text"
      },
      "source": [
        "The following fuction takes an acceleration tables with  headers: time, Ax, Ay, Az and produces the fourier transformation of the Ax data."
      ]
    },
    {
      "cell_type": "code",
      "metadata": {
        "id": "peDDJ4Iocv5k",
        "colab_type": "code",
        "colab": {}
      },
      "source": [
        "#Outputs the FDD of and acc_table\n",
        "def FDD(df):\n",
        "        #Convert Data Frame to Float\n",
        "        df[0:] = df[0:].astype(float)\n",
        "                    \n",
        "        #Create an Signal object\n",
        "        acc = df['Ay'].to_numpy()\n",
        "        dt = df.iloc[1,0]\n",
        "        asig = eqsig.AccSignal(acc, dt, label='name_of_record')\n",
        "        #asig.butter_pass((0.2, 20))  # Band pass filter at 0.2 and 6Hz (default 4th order)\n",
        "\n",
        "        #Produce Fourier Spectrum\n",
        "        plt.figure()\n",
        "        plt.plot(asig.fa_frequencies, abs(asig.fa_spectrum), c='r')\n",
        "        plt.title('Fourier Spectrum')\n",
        "        plt.xlabel('Frequency [Hz]')\n",
        "        plt.ylabel('Fourier Amplitude [m/s]')\n",
        "        plt.savefig('Fourier_Spectrum.png', dpi=400, bbox_inches='tight')\n",
        "        plt.show()\n",
        "        \n",
        "        #Close plots\n",
        "        #plt.close('all')\n",
        "        return\n"
      ],
      "execution_count": null,
      "outputs": []
    },
    {
      "cell_type": "markdown",
      "metadata": {
        "id": "90N5G5k0QIiu",
        "colab_type": "text"
      },
      "source": [
        "## The initial setup of the main program. \n",
        "\n",
        "Input the directory and analysis type being either:\n",
        "\n",
        "\n",
        "1.   An analysis of a single senors X, Y, Z acceleration direction. For this analysis ensure all the accleration CSVs of a single senor are in the directory (i.e. DATA-01.CSV, DATA-02.CSV, DATA-03.CSV).\n",
        "2.   An analysis of multiple sensors. For this analysis ensure all the acceleration CSVs (of the SAME time) of the sensors being compared are in the directory (i.e. DATA-01.CSV of Sensor 12, 25, 105, 152, 153, 164, 165, 167, 168, 171, 172, 174, 175, 178 etc - n.b. they will need to be renamed to something such as 12, 24, 105 instead of DATA-01.CSV, DATA-01.CSV).\n",
        "\n"
      ]
    },
    {
      "cell_type": "code",
      "metadata": {
        "id": "FJdljTalQH1k",
        "colab_type": "code",
        "colab": {}
      },
      "source": [
        "#Ask for analysis type \n",
        "analysis_type = int(input(\"[1] = Visualize X,Y,Z Channel,\\n[2] = Compare Multiple Channels (Insert DATA-01 of all channels into temp folder), \\nEnter Analysis Type: \"))\n",
        "\n",
        "#Determine directory for analysis\n",
        "if analysis_type == 1:\n",
        "  dir = str(\"/content/drive/My Drive/University/2020 - Part IV/Semester 1/CIVIL 705P/Python Development/BNZ Temp Data/BNZ Temp Data/\"+input(\"Enter the channel number:\"))\n",
        "else:\n",
        "  dir = \"/content/drive/My Drive/University/2020 - Part IV/Semester 1/CIVIL 705P/Python Development/BNZ Temp Data/BNZ Temp Data/Compare\" #Directory for unadjusted sensor data.\n",
        "  dir2 = \"/content/drive/My Drive/University/2020 - Part IV/Semester 1/CIVIL 705P/Python Development/BNZ Temp Data/BNZ Temp Data/Compare_LagAdjust\" #Directory for adjusted sensor data\n",
        "\n",
        "size = len(sorted(os.listdir(dir)))\n",
        "\n",
        "#Print directory\n",
        "print(\"The directory being analysed is:\")\n",
        "print(dir)"
      ],
      "execution_count": null,
      "outputs": []
    },
    {
      "cell_type": "markdown",
      "metadata": {
        "id": "wxC3kLPgRGxj",
        "colab_type": "text"
      },
      "source": [
        "## Analysis Type 1:\n",
        "Carries out the following steps on chronological data from a single sensor:\n",
        "\n",
        "\n",
        "1.   Reads in .CSV files\n",
        "2.   Cleans .CSV with process()\n",
        "3.   Connects times and accelerations from .CSVs and sitches them together.\n",
        "4.   Produce Time Vs. X,Y,Z Acceleration Graph.\n",
        "5.   Produce Fourier Transformation of Data."
      ]
    },
    {
      "cell_type": "code",
      "metadata": {
        "id": "BGRopg7jRCuz",
        "colab_type": "code",
        "colab": {}
      },
      "source": [
        "#Draw XYZ Plot for Single Senor\n",
        "def analysis1(dir):\n",
        "    switch = 0\n",
        "    i = 0\n",
        "    for file in sorted(os.listdir(dir)):\n",
        "        if file.endswith(\".CSV\"):\n",
        "            file_name = os.path.join(dir, file)\n",
        "            current_table = read(file_name)\n",
        "            current_table = process(current_table)\n",
        "        \n",
        "            if switch == 1:\n",
        "                master_table = join(master_table, current_table)\n",
        "        \n",
        "            if switch == 0:\n",
        "                master_table = current_table\n",
        "                switch = 1\n",
        "        \n",
        "            i = i + 1\n",
        "            \n",
        "            clear_output(wait=True)\n",
        "            print(str(i) + \" of \" + str(size) + \" completed...\")\n",
        "    return(master_table)"
      ],
      "execution_count": null,
      "outputs": []
    },
    {
      "cell_type": "code",
      "metadata": {
        "id": "uTk61TPl3nZT",
        "colab_type": "code",
        "colab": {}
      },
      "source": [
        "if analysis_type == 1:\n",
        "    master_table = analysis1(dir)        \n",
        "    print(\"Ploting Time Vs. X,Y,Z Accelerations and producing FD transformation:\")\n",
        "    print(dir)\n",
        "    #drawXYZ(master_table)\n",
        "    FDD(master_table)"
      ],
      "execution_count": null,
      "outputs": []
    },
    {
      "cell_type": "markdown",
      "metadata": {
        "id": "rTGYJmdV3767",
        "colab_type": "text"
      },
      "source": [
        "Output of the Master Table is provided below:"
      ]
    },
    {
      "cell_type": "code",
      "metadata": {
        "id": "x_hR0C5G7Q-I",
        "colab_type": "code",
        "colab": {}
      },
      "source": [
        "if analysis_type == 1:\n",
        "  print(master_table.head(10))"
      ],
      "execution_count": null,
      "outputs": []
    },
    {
      "cell_type": "markdown",
      "metadata": {
        "id": "Nd9MFaEDRnDL",
        "colab_type": "text"
      },
      "source": [
        "## Analysis Type 2\n",
        "Carries out the following steps on data from DIFFERENT sensors from the same time window:\n",
        "\n",
        "\n",
        "1.   Reads in .CSV Data.\n",
        "2.   Processes the .CSV files using process().\n",
        "3.   Builds a table with the time of the first .CSV as a index.\n",
        "4.   Add the x-accelerations into the tables of the various senors.\n",
        "5.   Produce a graph comparing the x-acceleration for the time window.\n",
        "6.   Output the lags between the different sensors using cross correlation.\n",
        "\n",
        "\n"
      ]
    },
    {
      "cell_type": "code",
      "metadata": {
        "id": "iIZp2Jhi5D7P",
        "colab_type": "code",
        "colab": {}
      },
      "source": [
        "#Compare Ax Across Multiple Senors\n",
        "def analysis2(dir):\n",
        "    switch = 0\n",
        "    i = 0\n",
        "    for file in sorted(os.listdir(dir)):\n",
        "        if file.endswith(\".CSV\"):\n",
        "            file_name = os.path.join(dir, file)\n",
        "            current_table = read(file_name)\n",
        "            current_table = process(current_table)\n",
        "        \n",
        "            #Remove Ay and Az data\n",
        "            current_table = current_table.drop([\"Ay\", \"Az\"], axis=1)\n",
        "            \n",
        "            #Build a master table including the time of the first files as a index and the Ax of each channel.                \n",
        "            #If first iteration.\n",
        "            if switch == 0:\n",
        "                i = 0\n",
        "                master_table = (current_table)\n",
        "                master_table.columns = [*master_table.columns[:-1], 'Ax' + str(i)]\n",
        "        \n",
        "            #Otherwise:\n",
        "            if switch == 1:\n",
        "                ax_column = current_table[\"Ax\"]\n",
        "                master_table = pd.concat([master_table,ax_column], axis = 1)\n",
        "                master_table.columns = [*master_table.columns[:-1], 'Ax' + str(i)]\n",
        "        \n",
        "            switch = 1   \n",
        "            i = i + 1\n",
        "\n",
        "            clear_output(wait=True)\n",
        "            print(str(i) + \" of \" + str(size) + \" completed...\")\n",
        "    return(master_table)"
      ],
      "execution_count": null,
      "outputs": []
    },
    {
      "cell_type": "code",
      "metadata": {
        "id": "lfHLifm53vjV",
        "colab_type": "code",
        "colab": {}
      },
      "source": [
        "if analysis_type == 2:\n",
        "    master_table = analysis2(dir)\n",
        "    print(\"Plotting comparison chart of sensors:\")        \n",
        "    compare_ax_chans(master_table)"
      ],
      "execution_count": null,
      "outputs": []
    },
    {
      "cell_type": "markdown",
      "metadata": {
        "id": "jaDFu8BV7coK",
        "colab_type": "text"
      },
      "source": [
        "Output of the Master Table is provided below:"
      ]
    },
    {
      "cell_type": "code",
      "metadata": {
        "id": "QeHIlv3j7MPB",
        "colab_type": "code",
        "colab": {}
      },
      "source": [
        "if analysis_type == 2:\n",
        "  print(master_table.head(10))"
      ],
      "execution_count": null,
      "outputs": []
    },
    {
      "cell_type": "markdown",
      "metadata": {
        "id": "9FvqbO_ses6K",
        "colab_type": "text"
      },
      "source": [
        "When completing a multiple sensor analysis output the time lags."
      ]
    },
    {
      "cell_type": "code",
      "metadata": {
        "id": "43Ha7lAaetuY",
        "colab_type": "code",
        "colab": {}
      },
      "source": [
        "if analysis_type == 2:    \n",
        "    lag = lag_table(master_table,512)\n",
        "    print(\"For the following file list:\")\n",
        "    print(sorted(os.listdir(dir))[1:])\n",
        "    print(\"The time delays are\")\n",
        "    print(lag)\n",
        "    print(\"compared to:\")\n",
        "    print(sorted(os.listdir(dir))[0])"
      ],
      "execution_count": null,
      "outputs": []
    },
    {
      "cell_type": "markdown",
      "metadata": {
        "id": "Kxg8WNN4q2kv",
        "colab_type": "text"
      },
      "source": [
        "## Running Analysis 2 - Post Lag Adjustment:\n",
        "After lags were calculated the sensor data was truncated. The visualisation below shows the synced data for the first .CSV file of each sensor.\n",
        "\n",
        "A further time drift analysis will be required."
      ]
    },
    {
      "cell_type": "code",
      "metadata": {
        "id": "8FEZ_SwUq2DD",
        "colab_type": "code",
        "colab": {}
      },
      "source": [
        "if analysis_type == 2:\n",
        "    master_table2 = analysis2(dir2)\n",
        "    print(\"Plotting comparison chart of sensors:\")        \n",
        "    compare_ax_chans(master_table2)"
      ],
      "execution_count": null,
      "outputs": []
    }
  ]
}